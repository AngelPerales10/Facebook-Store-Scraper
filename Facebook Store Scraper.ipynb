{
 "cells": [
  {
   "cell_type": "code",
   "execution_count": 1,
   "id": "c9fd59f4",
   "metadata": {},
   "outputs": [],
   "source": [
    "#imports here\n",
    "from selenium import webdriver\n",
    "from selenium.webdriver.chrome.service import Service\n",
    "from selenium.webdriver.common.keys import Keys\n",
    "from selenium.webdriver.support import expected_conditions as EC\n",
    "from selenium.webdriver.common.by import By\n",
    "from selenium.webdriver.support.wait import WebDriverWait\n",
    "import os\n",
    "import wget\n",
    "import time"
   ]
  },
  {
   "cell_type": "code",
   "execution_count": 2,
   "id": "1a3df790",
   "metadata": {},
   "outputs": [
    {
     "name": "stderr",
     "output_type": "stream",
     "text": [
      "C:\\Users\\Angel Perales\\AppData\\Local\\Temp\\ipykernel_13348\\3066782871.py:8: DeprecationWarning: use options instead of chrome_options\n",
      "  driver = webdriver.Chrome(service = wdriver, chrome_options=chrome_options)\n"
     ]
    }
   ],
   "source": [
    "# Disables notifications\n",
    "chrome_options = webdriver.ChromeOptions()\n",
    "prefs = {\"profile.default_content_setting_values.notifications\" : 2}\n",
    "chrome_options.add_experimental_option(\"prefs\",prefs)\n",
    "\n",
    "# Specify the path to chromedriver.exe (download and save on your computer)\n",
    "wdriver = Service('C:/Users/Angel Perales/AppData/Roaming/jupyter/Additions/chromedriver.exe')\n",
    "driver = webdriver.Chrome(service = wdriver, chrome_options=chrome_options)\n",
    "\n",
    "# Open the webpage and maximize\n",
    "driver.get(\"http://www.facebook.com\")\n",
    "time.sleep(3)\n",
    "driver.maximize_window()"
   ]
  },
  {
   "cell_type": "code",
   "execution_count": 3,
   "id": "c748f5f3",
   "metadata": {},
   "outputs": [],
   "source": [
    "# Target username\n",
    "username = WebDriverWait(driver, 10).until(EC.element_to_be_clickable((By.CSS_SELECTOR, \"input[name='email']\")))\n",
    "password = WebDriverWait(driver, 10).until(EC.element_to_be_clickable((By.CSS_SELECTOR, \"input[name='pass']\")))\n",
    "\n",
    "# Enter username and password\n",
    "username.clear()\n",
    "username.send_keys(\"youraccount@gmail.com\")\n",
    "password.clear()\n",
    "password.send_keys(\"yourpassword\")\n",
    "\n",
    "# Target the login button and click it\n",
    "button = WebDriverWait(driver, 2).until(EC.element_to_be_clickable((By.CSS_SELECTOR, \"button[type='submit']\"))).click()\n",
    "time.sleep(3)\n",
    "\n",
    "# Logged in!"
   ]
  },
  {
   "cell_type": "code",
   "execution_count": 4,
   "id": "31e4af27",
   "metadata": {},
   "outputs": [],
   "source": [
    "# Searches for pages that are shops based on given term \n",
    "test_search = 'clothing'\n",
    "search = driver.get(f'https://www.facebook.com/search/pages?q={test_search}&filters=eyJzaG9wczowIjoie1wibmFtZVwiOlwiZmlsdGVyX3BhZ2VzX3Nob3BzXCIsXCJhcmdzXCI6XCJcIn0ifQ%3D%3D')\n",
    "time.sleep(3)"
   ]
  },
  {
   "cell_type": "code",
   "execution_count": 5,
   "id": "d5db9210",
   "metadata": {},
   "outputs": [
    {
     "name": "stdout",
     "output_type": "stream",
     "text": [
      "['https://www.facebook.com/Dresslily/', 'https://www.facebook.com/SHEINOFFICIAL/', 'https://www.facebook.com/VRVoid-101963471973371/', 'https://www.facebook.com/TrollCoClothingLtd/', 'https://www.facebook.com/roseweofficial/', 'https://www.facebook.com/express/', 'https://www.facebook.com/Atticustheofficial/', 'https://www.facebook.com/FreePeople/', 'https://www.facebook.com/CrooksnCastles/', 'https://www.facebook.com/justhype/', 'https://www.facebook.com/BombshellSportswear/', 'https://www.facebook.com/BlackCraftCult/', 'https://www.facebook.com/ModCloth/', 'https://www.facebook.com/SweetHoneyClothing/', 'https://www.facebook.com/AfflictionClothing/', 'https://www.facebook.com/REVOLVE/', 'https://www.facebook.com/Windsorstore/', 'https://www.facebook.com/LoveNewchic/', 'https://www.facebook.com/Splendies/', 'https://www.facebook.com/fashionmodlily/', 'https://www.facebook.com/LoveChicos/', 'https://www.facebook.com/uniquevintage/', 'https://www.facebook.com/OfficialPLT/', 'https://www.facebook.com/pinkboutiquestore/', 'https://www.facebook.com/womanwithin/', 'https://www.facebook.com/Athleta/', 'https://www.facebook.com/tentree/', 'https://www.facebook.com/lululemon/', 'https://www.facebook.com/hugoboss/', 'https://www.facebook.com/CalvinKlein/', 'https://www.facebook.com/vspink/', 'https://www.facebook.com/nastygal/', 'https://www.facebook.com/CharlotteRusse/', 'https://www.facebook.com/LovelyWholesale.LW/', 'https://www.facebook.com/landsend/', 'https://www.facebook.com/youngandreckless/', 'https://www.facebook.com/cos/', 'https://www.facebook.com/victoriassecret/', 'https://www.facebook.com/SoftSurroundings/', 'https://www.facebook.com/vuoriclothing/', 'https://www.facebook.com/NordstromRack/', 'https://www.facebook.com/RalphLauren/', 'https://www.facebook.com/dickies/', 'https://www.facebook.com/dressbarn/', 'https://www.facebook.com/popfitclothing/', 'https://www.facebook.com/CHICWISH.OFFICIAL/', 'https://www.facebook.com/bershka/', 'https://www.facebook.com/cupsheofficial/', 'https://www.facebook.com/oldnavy/', 'https://www.facebook.com/PUMA/', 'https://www.facebook.com/champion/', 'https://www.facebook.com/Replay/', 'https://www.facebook.com/Nordstrom/', 'https://www.facebook.com/americaneagle/', 'https://www.facebook.com/childrensplace/', 'https://www.facebook.com/BananaRepublic/', 'https://www.facebook.com/vineyardvines/', 'https://www.facebook.com/Givenchy/', 'https://www.facebook.com/ericdress.party/', 'https://www.facebook.com/OneStopPlusMarket/', 'https://www.facebook.com/rue21/', 'https://www.facebook.com/MensWearhouse/', 'https://www.facebook.com/ArmTheAnimals/', 'https://www.facebook.com/bensherman/', 'https://www.facebook.com/birddogsshorts/', 'https://www.facebook.com/luckybrand/', 'https://www.facebook.com/hollister/', 'https://www.facebook.com/WhiteHouseBlackMarket/', 'https://www.facebook.com/DKNY/', 'https://www.facebook.com/abercrombieofficial/', 'https://www.facebook.com/tomford/', 'https://www.facebook.com/VivienneWestwoodOfficial/', 'https://www.facebook.com/paint000/', 'https://www.facebook.com/GulahmedFashion/', 'https://www.facebook.com/Coolibar/', 'https://www.facebook.com/shopchicsoul/', 'https://www.facebook.com/edenrobe/', 'https://www.facebook.com/bewakoofcom/', 'https://www.facebook.com/daintyjewells/', 'https://www.facebook.com/khasstores/', 'https://www.facebook.com/iloveshowpo/', 'https://www.facebook.com/ChenOneOfficial/', 'https://www.facebook.com/rosegalfans/', 'https://www.facebook.com/BibaIndia/', 'https://www.facebook.com/myrangja/', 'https://www.facebook.com/boohoo.com/', 'https://www.facebook.com/pantaloons/']\n"
     ]
    }
   ],
   "source": [
    "# Finds store links based on search term\n",
    "stores = driver.find_elements(By.XPATH, \"//a[@href]\")\n",
    "store_list = []\n",
    "time.sleep(2)\n",
    "\n",
    "# Filters to then give a formal list at the end\n",
    "for store in stores[18:]:\n",
    "    full_link = store.get_attribute(\"href\")\n",
    "    chopped_link = full_link[25:]\n",
    "    if ('?__tn__=%3' in chopped_link):\n",
    "        continue\n",
    "    elif('stories' in chopped_link):\n",
    "        continue\n",
    "    elif('/' in chopped_link):\n",
    "        stores_chopped = chopped_link[:-1]\n",
    "        store_list.append(f'https://www.facebook.com/{stores_chopped}/')\n",
    "    else:\n",
    "        store_list.append(f'https://www.facebook.com/{stores_chopped}/')\n",
    "\n",
    "formal_list = []\n",
    "for i in store_list:\n",
    "    if i not in formal_list:\n",
    "        formal_list.append(i)\n",
    "print(formal_list)\n",
    "\n",
    "time.sleep(5)\n"
   ]
  },
  {
   "cell_type": "code",
   "execution_count": 6,
   "id": "31bd7d6d",
   "metadata": {},
   "outputs": [
    {
     "name": "stdout",
     "output_type": "stream",
     "text": [
      "https://www.facebook.com/Dresslily/\n",
      "https://www.facebook.com/SHEINOFFICIAL/\n",
      "https://www.facebook.com/VRVoid-101963471973371/\n",
      "https://www.facebook.com/TrollCoClothingLtd/\n",
      "https://www.facebook.com/roseweofficial/\n",
      "https://www.facebook.com/express/\n",
      "https://www.facebook.com/Atticustheofficial/\n",
      "https://www.facebook.com/FreePeople/\n",
      "https://www.facebook.com/CrooksnCastles/\n",
      "https://www.facebook.com/justhype/\n",
      "https://www.facebook.com/BombshellSportswear/\n",
      "https://www.facebook.com/BlackCraftCult/\n",
      "https://www.facebook.com/ModCloth/\n",
      "https://www.facebook.com/SweetHoneyClothing/\n",
      "https://www.facebook.com/AfflictionClothing/\n",
      "https://www.facebook.com/REVOLVE/\n",
      "https://www.facebook.com/Windsorstore/\n",
      "https://www.facebook.com/LoveNewchic/\n",
      "https://www.facebook.com/Splendies/\n",
      "https://www.facebook.com/fashionmodlily/\n",
      "https://www.facebook.com/LoveChicos/\n",
      "https://www.facebook.com/uniquevintage/\n",
      "https://www.facebook.com/OfficialPLT/\n",
      "https://www.facebook.com/pinkboutiquestore/\n",
      "https://www.facebook.com/womanwithin/\n",
      "https://www.facebook.com/Athleta/\n",
      "https://www.facebook.com/tentree/\n",
      "https://www.facebook.com/lululemon/\n",
      "https://www.facebook.com/hugoboss/\n",
      "https://www.facebook.com/CalvinKlein/\n",
      "https://www.facebook.com/vspink/\n",
      "https://www.facebook.com/nastygal/\n",
      "https://www.facebook.com/CharlotteRusse/\n",
      "https://www.facebook.com/LovelyWholesale.LW/\n",
      "https://www.facebook.com/landsend/\n",
      "https://www.facebook.com/youngandreckless/\n",
      "https://www.facebook.com/cos/\n",
      "https://www.facebook.com/victoriassecret/\n",
      "https://www.facebook.com/SoftSurroundings/\n",
      "https://www.facebook.com/vuoriclothing/\n",
      "https://www.facebook.com/NordstromRack/\n",
      "https://www.facebook.com/RalphLauren/\n",
      "https://www.facebook.com/dickies/\n",
      "https://www.facebook.com/dressbarn/\n",
      "https://www.facebook.com/popfitclothing/\n",
      "https://www.facebook.com/CHICWISH.OFFICIAL/\n",
      "https://www.facebook.com/bershka/\n",
      "https://www.facebook.com/cupsheofficial/\n",
      "https://www.facebook.com/oldnavy/\n",
      "https://www.facebook.com/PUMA/\n",
      "https://www.facebook.com/champion/\n",
      "https://www.facebook.com/Replay/\n",
      "https://www.facebook.com/Nordstrom/\n",
      "https://www.facebook.com/americaneagle/\n",
      "https://www.facebook.com/childrensplace/\n",
      "https://www.facebook.com/BananaRepublic/\n",
      "https://www.facebook.com/vineyardvines/\n",
      "https://www.facebook.com/Givenchy/\n",
      "https://www.facebook.com/ericdress.party/\n",
      "https://www.facebook.com/OneStopPlusMarket/\n",
      "https://www.facebook.com/rue21/\n",
      "https://www.facebook.com/MensWearhouse/\n",
      "https://www.facebook.com/ArmTheAnimals/\n",
      "https://www.facebook.com/bensherman/\n",
      "https://www.facebook.com/birddogsshorts/\n",
      "https://www.facebook.com/luckybrand/\n",
      "https://www.facebook.com/hollister/\n",
      "https://www.facebook.com/WhiteHouseBlackMarket/\n",
      "https://www.facebook.com/DKNY/\n",
      "https://www.facebook.com/abercrombieofficial/\n",
      "https://www.facebook.com/tomford/\n",
      "https://www.facebook.com/VivienneWestwoodOfficial/\n",
      "https://www.facebook.com/paint000/\n",
      "https://www.facebook.com/GulahmedFashion/\n",
      "https://www.facebook.com/Coolibar/\n",
      "https://www.facebook.com/shopchicsoul/\n",
      "https://www.facebook.com/edenrobe/\n",
      "https://www.facebook.com/bewakoofcom/\n",
      "https://www.facebook.com/daintyjewells/\n",
      "https://www.facebook.com/khasstores/\n",
      "https://www.facebook.com/iloveshowpo/\n",
      "https://www.facebook.com/ChenOneOfficial/\n",
      "https://www.facebook.com/rosegalfans/\n",
      "https://www.facebook.com/BibaIndia/\n",
      "https://www.facebook.com/myrangja/\n",
      "https://www.facebook.com/boohoo.com/\n",
      "https://www.facebook.com/pantaloons/\n"
     ]
    }
   ],
   "source": [
    "# Print to then go to link to view store and ads\n",
    "for go_to_link in formal_list:\n",
    "    print(go_to_link)"
   ]
  },
  {
   "cell_type": "code",
   "execution_count": null,
   "id": "38991659",
   "metadata": {},
   "outputs": [],
   "source": []
  }
 ],
 "metadata": {
  "kernelspec": {
   "display_name": "Python 3 (ipykernel)",
   "language": "python",
   "name": "python3"
  },
  "language_info": {
   "codemirror_mode": {
    "name": "ipython",
    "version": 3
   },
   "file_extension": ".py",
   "mimetype": "text/x-python",
   "name": "python",
   "nbconvert_exporter": "python",
   "pygments_lexer": "ipython3",
   "version": "3.10.5"
  }
 },
 "nbformat": 4,
 "nbformat_minor": 5
}
